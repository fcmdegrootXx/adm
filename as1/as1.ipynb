{
 "cells": [
  {
   "cell_type": "code",
   "execution_count": 13,
   "metadata": {},
   "outputs": [],
   "source": [
    "# ! pip install numpy\n",
    "# ! pip install -U scikit-learn\n",
    "# ! pip install umap\n",
    "# ! pip install matplotlib\n",
    "# ! pip install pandas"
   ]
  },
  {
   "cell_type": "code",
   "execution_count": 14,
   "metadata": {},
   "outputs": [],
   "source": [
    "import numpy as np\n",
    "import sklearn\n",
    "from sklearn.metrics import mean_squared_error, mean_absolute_error\n",
    "from math import sqrt\n",
    "from sklearn.decomposition import PCA\n",
    "from sklearn.manifold import TSNE\n",
    "import umap\n",
    "import matplotlib.pyplot as plt\n",
    "from sklearn.model_selection import KFold\n",
    "from sklearn.neighbors import KNeighborsClassifier\n",
    "import pandas as pd\n",
    "from sklearn.linear_model import LinearRegression"
   ]
  },
  {
   "cell_type": "code",
   "execution_count": 15,
   "metadata": {},
   "outputs": [],
   "source": [
    "class recommenderSystem():\n",
    "    def Naive_1(self, df_ratings):\n",
    "        # Naive Approach\n",
    "        r_global = df_ratings['Rating'].mean()\n",
    "        r_item = df_ratings.groupby('MovieID')['Rating'].mean().reset_index().rename({'Rating': 'R_item'}, axis='columns')\n",
    "        r_user = df_ratings.groupby('UserID')['Rating'].mean().reset_index().rename({'Rating': 'R_user'}, axis='columns')\n",
    "\n",
    "        df_ratings = df_ratings.merge(r_item, on=['MovieID']).merge(r_user, on=['UserID'])\n",
    "        print(r_global)\n",
    "        print(r_item.head())\n",
    "        print(r_user.head())\n",
    "        print(df_ratings.head())\n",
    "\n",
    "        X = df_ratings[['R_item', 'R_user']]\n",
    "        y = df_ratings['Rating']\n",
    "        model = LinearRegression().fit(X, y)\n",
    "\n",
    "        alpha, beta = model.coef_\n",
    "        gamma = model.intercept_\n",
    "\n",
    "        print(f'alpha: {alpha}, beta: {beta}, gamma: {gamma}')\n",
    "\n",
    "    "
   ]
  },
  {
   "cell_type": "code",
   "execution_count": 16,
   "metadata": {},
   "outputs": [
    {
     "name": "stdout",
     "output_type": "stream",
     "text": [
      "   UserID  MovieID  Rating  Timestamp\n",
      "0       1     1193       5  978300760\n",
      "1       1      661       3  978302109\n",
      "2       1      914       3  978301968\n",
      "3       1     3408       4  978300275\n",
      "4       1     2355       5  978824291\n",
      "   UserID Gender  Age  Occupation Zip-code\n",
      "0       1      F    1          10    48067\n",
      "1       2      M   56          16    70072\n",
      "2       3      M   25          15    55117\n",
      "3       4      M   45           7    02460\n",
      "4       5      M   25          20    55455\n",
      "   MovieID                               Title                         Genre\n",
      "0        1                    Toy Story (1995)   Animation|Children's|Comedy\n",
      "1        2                      Jumanji (1995)  Adventure|Children's|Fantasy\n",
      "2        3             Grumpier Old Men (1995)                Comedy|Romance\n",
      "3        4            Waiting to Exhale (1995)                  Comedy|Drama\n",
      "4        5  Father of the Bride Part II (1995)                        Comedy\n",
      "3.581564453029317\n",
      "   MovieID    R_item\n",
      "0        1  4.146846\n",
      "1        2  3.201141\n",
      "2        3  3.016736\n",
      "3        4  2.729412\n",
      "4        5  3.006757\n",
      "   UserID    R_user\n",
      "0       1  4.188679\n",
      "1       2  3.713178\n",
      "2       3  3.901961\n",
      "3       4  4.190476\n",
      "4       5  3.146465\n",
      "   UserID  MovieID  Rating  Timestamp    R_item    R_user\n",
      "0       1     1193       5  978300760  4.390725  4.188679\n",
      "1       1      661       3  978302109  3.464762  4.188679\n",
      "2       1      914       3  978301968  4.154088  4.188679\n",
      "3       1     3408       4  978300275  3.863878  4.188679\n",
      "4       1     2355       5  978824291  3.854375  4.188679\n",
      "alpha: 0.8757397042780238, beta: 0.7821285278627704, gamma: -2.356197475012707\n"
     ]
    }
   ],
   "source": [
    "if __name__ == '__main__':\n",
    "    # Specify the file path for ratings\n",
    "    file_path_ratings = 'ml-1m/ratings.dat'\n",
    "    df_ratings = pd.read_csv(file_path_ratings, sep='::', header=None, engine='python')\n",
    "    df_ratings = df_ratings.rename({0: 'UserID', 1: 'MovieID', 2: 'Rating', 3: 'Timestamp'}, axis='columns')\n",
    "\n",
    "    print(df_ratings.head())\n",
    "\n",
    "    # Specify the file path for users\n",
    "    file_path_users = 'ml-1m/users.dat'\n",
    "    df_users = pd.read_csv(file_path_users, sep='::', header=None, engine='python')\n",
    "    df_users = df_users.rename({0: 'UserID', 1: 'Gender', 2: 'Age', 3: 'Occupation', 4: 'Zip-code'}, axis='columns')\n",
    "    print(df_users.head())\n",
    "\n",
    "    # Specify the file path for movies\n",
    "    file_path_movies = 'ml-1m/movies.dat'\n",
    "    df_movies = pd.read_csv(file_path_movies, sep='::', header=None, encoding='ISO-8859-1', engine='python')\n",
    "    df_movies = df_movies.rename({0: 'MovieID', 1: 'Title', 2: 'Genre'}, axis='columns')\n",
    "\n",
    "    print(df_movies.head())\n",
    "\n",
    "    rec = recommenderSystem()\n",
    "    rec.Naive_1(df_ratings)\n"
   ]
  },
  {
   "cell_type": "markdown",
   "metadata": {},
   "source": [
    "# Test"
   ]
  }
 ],
 "metadata": {
  "kernelspec": {
   "display_name": "as1_adm",
   "language": "python",
   "name": "python3"
  },
  "language_info": {
   "codemirror_mode": {
    "name": "ipython",
    "version": 3
   },
   "file_extension": ".py",
   "mimetype": "text/x-python",
   "name": "python",
   "nbconvert_exporter": "python",
   "pygments_lexer": "ipython3",
   "version": "3.12.0"
  }
 },
 "nbformat": 4,
 "nbformat_minor": 2
}
